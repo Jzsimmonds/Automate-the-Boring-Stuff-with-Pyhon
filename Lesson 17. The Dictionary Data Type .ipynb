{
 "cells": [
  {
   "cell_type": "markdown",
   "id": "7e85f26a",
   "metadata": {},
   "source": [
    "A Dictionary is a collection of many values, but indixes for dictionary can use many different data types, not just integers. \n",
    "\n",
    "Indexes for dictionaries are called \"Key\" with its associated value is called \"Key value pair\" "
   ]
  },
  {
   "cell_type": "code",
   "execution_count": 1,
   "id": "dc42fd38",
   "metadata": {},
   "outputs": [
    {
     "data": {
      "text/plain": [
       "'fat'"
      ]
     },
     "execution_count": 1,
     "metadata": {},
     "output_type": "execute_result"
    }
   ],
   "source": [
    "# For define a Dictionary we use the curly braces, inside the braces are the key value pairs. \n",
    "myCat = {'size': 'fat', 'color': 'gray', 'disposition': 'loud'}\n",
    "myCat['size']"
   ]
  },
  {
   "cell_type": "code",
   "execution_count": 4,
   "id": "a4e374d0",
   "metadata": {},
   "outputs": [
    {
     "data": {
      "text/plain": [
       "'My cat has gray fur'"
      ]
     },
     "execution_count": 4,
     "metadata": {},
     "output_type": "execute_result"
    }
   ],
   "source": [
    "# We can concatenete strings\n",
    "'My cat has ' + myCat['color'] + ' fur'"
   ]
  },
  {
   "cell_type": "code",
   "execution_count": 5,
   "id": "f7f2f881",
   "metadata": {},
   "outputs": [
    {
     "data": {
      "text/plain": [
       "False"
      ]
     },
     "execution_count": 5,
     "metadata": {},
     "output_type": "execute_result"
    }
   ],
   "source": [
    "spam = {12345: 'Luggage combination', 42: 'The answer'}\n",
    "# Unlike list, items in dictionaries are unordered\n",
    "[1,2,3] == [3,2,1] # In list order mattter "
   ]
  },
  {
   "cell_type": "code",
   "execution_count": 6,
   "id": "08c416cd",
   "metadata": {},
   "outputs": [
    {
     "data": {
      "text/plain": [
       "True"
      ]
     },
     "execution_count": 6,
     "metadata": {},
     "output_type": "execute_result"
    }
   ],
   "source": [
    "eggs = {'name': 'Sophie', 'Specie': 'Cat', 'Age': 8}\n",
    "ham = {'Specie': 'Cat', 'name': 'Sophie', 'Age': 8}\n",
    "eggs == ham # Are the same in Dictionaries"
   ]
  },
  {
   "cell_type": "code",
   "execution_count": 8,
   "id": "75f5bd24",
   "metadata": {},
   "outputs": [
    {
     "data": {
      "text/plain": [
       "True"
      ]
     },
     "execution_count": 8,
     "metadata": {},
     "output_type": "execute_result"
    }
   ],
   "source": [
    "'name' in eggs"
   ]
  },
  {
   "cell_type": "code",
   "execution_count": 9,
   "id": "86e7ea98",
   "metadata": {},
   "outputs": [
    {
     "data": {
      "text/plain": [
       "{'name': 'Sophie', 'Specie': 'Cat', 'Age': 8}"
      ]
     },
     "execution_count": 9,
     "metadata": {},
     "output_type": "execute_result"
    }
   ],
   "source": [
    "eggs"
   ]
  },
  {
   "cell_type": "code",
   "execution_count": 10,
   "id": "c5dccd7f",
   "metadata": {},
   "outputs": [
    {
     "data": {
      "text/plain": [
       "False"
      ]
     },
     "execution_count": 10,
     "metadata": {},
     "output_type": "execute_result"
    }
   ],
   "source": [
    "'name' not in eggs "
   ]
  },
  {
   "cell_type": "code",
   "execution_count": 11,
   "id": "8391455d",
   "metadata": {},
   "outputs": [
    {
     "data": {
      "text/plain": [
       "['name', 'Specie', 'Age']"
      ]
     },
     "execution_count": 11,
     "metadata": {},
     "output_type": "execute_result"
    }
   ],
   "source": [
    "# Dictionary are mutable like lists \n",
    "# There are three dictionary methods that will return list like values of the dictionaries keys values \n",
    "# The Keys(), values(), and items()\n",
    "list(eggs.keys())"
   ]
  },
  {
   "cell_type": "code",
   "execution_count": 12,
   "id": "970c905c",
   "metadata": {},
   "outputs": [
    {
     "data": {
      "text/plain": [
       "['Sophie', 'Cat', 8]"
      ]
     },
     "execution_count": 12,
     "metadata": {},
     "output_type": "execute_result"
    }
   ],
   "source": [
    "list(eggs.values())"
   ]
  },
  {
   "cell_type": "code",
   "execution_count": 13,
   "id": "4ed3554e",
   "metadata": {},
   "outputs": [
    {
     "data": {
      "text/plain": [
       "[('name', 'Sophie'), ('Specie', 'Cat'), ('Age', 8)]"
      ]
     },
     "execution_count": 13,
     "metadata": {},
     "output_type": "execute_result"
    }
   ],
   "source": [
    "list(eggs.items())"
   ]
  },
  {
   "cell_type": "code",
   "execution_count": 14,
   "id": "b946b66a",
   "metadata": {},
   "outputs": [
    {
     "data": {
      "text/plain": [
       "dict_keys(['name', 'Specie', 'Age'])"
      ]
     },
     "execution_count": 14,
     "metadata": {},
     "output_type": "execute_result"
    }
   ],
   "source": [
    "eggs.keys()"
   ]
  },
  {
   "cell_type": "code",
   "execution_count": 16,
   "id": "08c10e1e",
   "metadata": {},
   "outputs": [
    {
     "name": "stdout",
     "output_type": "stream",
     "text": [
      "name\n",
      "Specie\n",
      "Age\n"
     ]
    }
   ],
   "source": [
    "for k in eggs.keys():\n",
    "    print(k)"
   ]
  },
  {
   "cell_type": "code",
   "execution_count": 17,
   "id": "c8d4192e",
   "metadata": {},
   "outputs": [
    {
     "name": "stdout",
     "output_type": "stream",
     "text": [
      "Sophie\n",
      "Cat\n",
      "8\n"
     ]
    }
   ],
   "source": [
    "for v in eggs.values():\n",
    "    print(v)"
   ]
  },
  {
   "cell_type": "code",
   "execution_count": 19,
   "id": "c2d3ee51",
   "metadata": {},
   "outputs": [
    {
     "name": "stdout",
     "output_type": "stream",
     "text": [
      "name Sophie\n",
      "Specie Cat\n",
      "Age 8\n"
     ]
    }
   ],
   "source": [
    "for k, v in eggs.items():\n",
    "    print(k,v)"
   ]
  },
  {
   "cell_type": "code",
   "execution_count": 20,
   "id": "34edddbe",
   "metadata": {},
   "outputs": [
    {
     "name": "stdout",
     "output_type": "stream",
     "text": [
      "('name', 'Sophie')\n",
      "('Specie', 'Cat')\n",
      "('Age', 8)\n"
     ]
    }
   ],
   "source": [
    "for i in eggs.items():\n",
    "    print(i)"
   ]
  },
  {
   "cell_type": "code",
   "execution_count": 21,
   "id": "2c38e011",
   "metadata": {},
   "outputs": [
    {
     "data": {
      "text/plain": [
       "{'name': 'Sophie', 'Specie': 'Cat', 'Age': 8}"
      ]
     },
     "execution_count": 21,
     "metadata": {},
     "output_type": "execute_result"
    }
   ],
   "source": [
    "eggs"
   ]
  },
  {
   "cell_type": "code",
   "execution_count": 23,
   "id": "98d09ce4",
   "metadata": {},
   "outputs": [
    {
     "data": {
      "text/plain": [
       "True"
      ]
     },
     "execution_count": 23,
     "metadata": {},
     "output_type": "execute_result"
    }
   ],
   "source": [
    "'Cat' in eggs.values()"
   ]
  },
  {
   "cell_type": "code",
   "execution_count": 24,
   "id": "2d3fb3f3",
   "metadata": {},
   "outputs": [],
   "source": [
    "# The get() Dictionary method "
   ]
  },
  {
   "cell_type": "code",
   "execution_count": 25,
   "id": "ab78a0b2",
   "metadata": {},
   "outputs": [],
   "source": [
    "if 'Color' in eggs:\n",
    "    print(eggs['Color'])"
   ]
  },
  {
   "cell_type": "code",
   "execution_count": 26,
   "id": "c31bdade",
   "metadata": {},
   "outputs": [
    {
     "data": {
      "text/plain": [
       "{'name': 'Sophie', 'Specie': 'Cat', 'Age': 8}"
      ]
     },
     "execution_count": 26,
     "metadata": {},
     "output_type": "execute_result"
    }
   ],
   "source": [
    "eggs"
   ]
  },
  {
   "cell_type": "code",
   "execution_count": 27,
   "id": "54bedfb4",
   "metadata": {},
   "outputs": [
    {
     "data": {
      "text/plain": [
       "0"
      ]
     },
     "execution_count": 27,
     "metadata": {},
     "output_type": "execute_result"
    }
   ],
   "source": [
    "eggs.get('age', 0)"
   ]
  },
  {
   "cell_type": "code",
   "execution_count": 28,
   "id": "f256d9ea",
   "metadata": {},
   "outputs": [
    {
     "data": {
      "text/plain": [
       "''"
      ]
     },
     "execution_count": 28,
     "metadata": {},
     "output_type": "execute_result"
    }
   ],
   "source": [
    "eggs.get('Color', '')"
   ]
  },
  {
   "cell_type": "code",
   "execution_count": 30,
   "id": "9d901abd",
   "metadata": {},
   "outputs": [
    {
     "name": "stdout",
     "output_type": "stream",
     "text": [
      "I am bringing 0 to the picnic.\n"
     ]
    }
   ],
   "source": [
    "picnicItems = {'apples': 5, 'cups': 2}\n",
    "print('I am bringing ' + str(picnicItems.get('napkins', 0)) + ' to the picnic.')"
   ]
  },
  {
   "cell_type": "code",
   "execution_count": 31,
   "id": "5be44d42",
   "metadata": {},
   "outputs": [],
   "source": [
    "# The setdefault() dictionary method"
   ]
  },
  {
   "cell_type": "code",
   "execution_count": 32,
   "id": "9d698184",
   "metadata": {},
   "outputs": [
    {
     "data": {
      "text/plain": [
       "{'name': 'Sophie', 'Specie': 'Cat', 'Age': 8}"
      ]
     },
     "execution_count": 32,
     "metadata": {},
     "output_type": "execute_result"
    }
   ],
   "source": [
    "eggs"
   ]
  },
  {
   "cell_type": "code",
   "execution_count": 33,
   "id": "1dcaae5f",
   "metadata": {},
   "outputs": [],
   "source": [
    "if 'color' not in eggs:\n",
    "    eggs['color']= 'black'"
   ]
  },
  {
   "cell_type": "code",
   "execution_count": 34,
   "id": "dd4c80d7",
   "metadata": {},
   "outputs": [
    {
     "data": {
      "text/plain": [
       "{'name': 'Sophie', 'Specie': 'Cat', 'Age': 8, 'color': 'black'}"
      ]
     },
     "execution_count": 34,
     "metadata": {},
     "output_type": "execute_result"
    }
   ],
   "source": [
    "eggs"
   ]
  },
  {
   "cell_type": "code",
   "execution_count": 35,
   "id": "58247733",
   "metadata": {},
   "outputs": [
    {
     "data": {
      "text/plain": [
       "'black'"
      ]
     },
     "execution_count": 35,
     "metadata": {},
     "output_type": "execute_result"
    }
   ],
   "source": [
    "eggs.setdefault('color', 'black')"
   ]
  },
  {
   "cell_type": "code",
   "execution_count": 36,
   "id": "28b78258",
   "metadata": {},
   "outputs": [
    {
     "data": {
      "text/plain": [
       "{'name': 'Sophie', 'Specie': 'Cat', 'Age': 8, 'color': 'black'}"
      ]
     },
     "execution_count": 36,
     "metadata": {},
     "output_type": "execute_result"
    }
   ],
   "source": [
    "eggs"
   ]
  },
  {
   "cell_type": "code",
   "execution_count": 37,
   "id": "626c7f0a",
   "metadata": {},
   "outputs": [
    {
     "data": {
      "text/plain": [
       "'black'"
      ]
     },
     "execution_count": 37,
     "metadata": {},
     "output_type": "execute_result"
    }
   ],
   "source": [
    "eggs.setdefault('color', 'orange')"
   ]
  },
  {
   "cell_type": "code",
   "execution_count": 38,
   "id": "9799f253",
   "metadata": {},
   "outputs": [
    {
     "data": {
      "text/plain": [
       "{'name': 'Sophie', 'Specie': 'Cat', 'Age': 8, 'color': 'black'}"
      ]
     },
     "execution_count": 38,
     "metadata": {},
     "output_type": "execute_result"
    }
   ],
   "source": [
    "eggs"
   ]
  },
  {
   "cell_type": "code",
   "execution_count": 39,
   "id": "4398a1e3",
   "metadata": {},
   "outputs": [],
   "source": [
    "# Character Counting program"
   ]
  },
  {
   "cell_type": "code",
   "execution_count": 41,
   "id": "db1edc56",
   "metadata": {},
   "outputs": [
    {
     "name": "stdout",
     "output_type": "stream",
     "text": [
      "{'I': 1, 't': 6, ' ': 14, 'w': 2, 'a': 4, 's': 3, 'b': 1, 'r': 5, 'i': 6, 'g': 2, 'h': 3, 'c': 3, 'o': 2, 'l': 3, 'd': 3, 'y': 1, 'n': 4, 'A': 1, 'p': 1, ',': 1, 'e': 5, 'k': 2}\n"
     ]
    }
   ],
   "source": [
    "message = 'It was a bright cold day in April, and the clocks were striking thirteen '\n",
    "count = {} # r 12\n",
    "\n",
    "for character in message:\n",
    "    count.setdefault(character, 0)\n",
    "    count[character] = count[character] +1 \n",
    "    \n",
    "print(count)"
   ]
  },
  {
   "cell_type": "code",
   "execution_count": 42,
   "id": "e6f1d83a",
   "metadata": {},
   "outputs": [
    {
     "name": "stdout",
     "output_type": "stream",
     "text": [
      "{'I': 7, 'T': 6, ' ': 14, 'W': 2, 'A': 5, 'S': 3, 'B': 1, 'R': 5, 'G': 2, 'H': 3, 'C': 3, 'O': 2, 'L': 3, 'D': 3, 'Y': 1, 'N': 4, 'P': 1, ',': 1, 'E': 5, 'K': 2}\n"
     ]
    }
   ],
   "source": [
    "message = 'It was a bright cold day in April, and the clocks were striking thirteen '\n",
    "count = {} # r 12\n",
    "\n",
    "for character in message.upper():\n",
    "    count.setdefault(character, 0)\n",
    "    count[character] = count[character] +1 \n",
    "    \n",
    "print(count)"
   ]
  },
  {
   "cell_type": "code",
   "execution_count": 45,
   "id": "64623a4a",
   "metadata": {},
   "outputs": [
    {
     "name": "stdout",
     "output_type": "stream",
     "text": [
      "{' ': 14,\n",
      " ',': 1,\n",
      " 'A': 5,\n",
      " 'B': 1,\n",
      " 'C': 3,\n",
      " 'D': 3,\n",
      " 'E': 5,\n",
      " 'G': 2,\n",
      " 'H': 3,\n",
      " 'I': 7,\n",
      " 'K': 2,\n",
      " 'L': 3,\n",
      " 'N': 4,\n",
      " 'O': 2,\n",
      " 'P': 1,\n",
      " 'R': 5,\n",
      " 'S': 3,\n",
      " 'T': 6,\n",
      " 'W': 2,\n",
      " 'Y': 1}\n"
     ]
    }
   ],
   "source": [
    "# The pprint Module\n",
    "import pprint\n",
    "message = 'It was a bright cold day in April, and the clocks were striking thirteen '\n",
    "count = {} # r 12\n",
    "\n",
    "for character in message.upper():\n",
    "    count.setdefault(character, 0)\n",
    "    count[character] = count[character] +1 \n",
    "    \n",
    "pprint.pprint(count)"
   ]
  },
  {
   "cell_type": "code",
   "execution_count": null,
   "id": "6b9553aa",
   "metadata": {},
   "outputs": [
    {
     "name": "stdout",
     "output_type": "stream",
     "text": [
      "Enter a name: (blank to quit)\n",
      "Jose\n",
      "I do not have birhtday information for Jose\n",
      "What is their birthday\n",
      "Jan 26\n",
      "birthdays database updated\n",
      "Enter a name: (blank to quit)\n",
      "jose\n",
      "I do not have birhtday information for jose\n",
      "What is their birthday\n",
      "Jose\n",
      "birthdays database updated\n",
      "Enter a name: (blank to quit)\n",
      "jose\n",
      "Jose is the birthday of jose\n",
      "Enter a name: (blank to quit)\n",
      "Alice\n",
      "Aprl 1 is the birthday of Alice\n",
      "Enter a name: (blank to quit)\n"
     ]
    }
   ],
   "source": [
    "birthdays = {'Alice': 'Aprl 1', 'Bob': 'Dec 12', 'Carol': 'Mar 4 '}\n",
    "while True:\n",
    "    print('Enter a name: (blank to quit)')\n",
    "    name = input()\n",
    "    if name == '':\n",
    "        break\n",
    "        \n",
    "    if name in birthdays:\n",
    "        print(birthdays[name] + ' is the birthday of ' + name)\n",
    "    else:\n",
    "        print('I do not have birhtday information for ' + name)\n",
    "        print('What is their birthday')\n",
    "        bday = input()\n",
    "        birthdays[name] = bday\n",
    "        print('birthdays database updated')\n",
    "        "
   ]
  }
 ],
 "metadata": {
  "kernelspec": {
   "display_name": "Python 3 (ipykernel)",
   "language": "python",
   "name": "python3"
  },
  "language_info": {
   "codemirror_mode": {
    "name": "ipython",
    "version": 3
   },
   "file_extension": ".py",
   "mimetype": "text/x-python",
   "name": "python",
   "nbconvert_exporter": "python",
   "pygments_lexer": "ipython3",
   "version": "3.7.9"
  }
 },
 "nbformat": 4,
 "nbformat_minor": 5
}
