{
 "cells": [
  {
   "cell_type": "markdown",
   "id": "bf0eac9d",
   "metadata": {},
   "source": [
    "# Escape Characters "
   ]
  },
  {
   "cell_type": "markdown",
   "id": "f491c7e6",
   "metadata": {},
   "source": [
    "An escape character lets you use characters that are otherwise impossible to\n",
    "put into a string. An escape character consists of a backslash (\\) followed\n",
    "by the character you want to add to the string. (Despite consisting of two\n",
    "characters, it is commonly referred to as a singular escape character.)"
   ]
  },
  {
   "cell_type": "code",
   "execution_count": 2,
   "id": "5e2c3eef",
   "metadata": {},
   "outputs": [
    {
     "ename": "SyntaxError",
     "evalue": "invalid syntax (2902608001.py, line 2)",
     "output_type": "error",
     "traceback": [
      "\u001b[1;36m  File \u001b[1;32m\"C:\\Users\\joseg\\AppData\\Local\\Temp\\ipykernel_9348\\2902608001.py\"\u001b[1;36m, line \u001b[1;32m2\u001b[0m\n\u001b[1;33m    spam = 'That is Alice's cat.'\u001b[0m\n\u001b[1;37m                          ^\u001b[0m\n\u001b[1;31mSyntaxError\u001b[0m\u001b[1;31m:\u001b[0m invalid syntax\n"
     ]
    }
   ],
   "source": [
    "# Invalid syntax\n",
    "spam = 'That is Alice's cat.'"
   ]
  },
  {
   "cell_type": "code",
   "execution_count": 3,
   "id": "2f042429",
   "metadata": {},
   "outputs": [],
   "source": [
    "# Using escape characters \n",
    "spam = \"That is Alice's cat.\""
   ]
  },
  {
   "cell_type": "code",
   "execution_count": 6,
   "id": "efdd0700",
   "metadata": {},
   "outputs": [
    {
     "data": {
      "text/plain": [
       "\"Say hi to Bob's mother.\""
      ]
     },
     "execution_count": 6,
     "metadata": {},
     "output_type": "execute_result"
    }
   ],
   "source": [
    "spam"
   ]
  },
  {
   "cell_type": "code",
   "execution_count": 5,
   "id": "b2f10e69",
   "metadata": {},
   "outputs": [],
   "source": [
    "# another example \n",
    "spam = 'Say hi to Bob\\'s mother.'"
   ]
  },
  {
   "cell_type": "code",
   "execution_count": 7,
   "id": "f5694763",
   "metadata": {},
   "outputs": [
    {
     "data": {
      "text/plain": [
       "\"Say hi to Bob's mother.\""
      ]
     },
     "execution_count": 7,
     "metadata": {},
     "output_type": "execute_result"
    }
   ],
   "source": [
    "spam"
   ]
  },
  {
   "cell_type": "code",
   "execution_count": 8,
   "id": "52749f69",
   "metadata": {},
   "outputs": [
    {
     "name": "stdout",
     "output_type": "stream",
     "text": [
      "Hello there!\n",
      "How are you?\n",
      "I'm doing fine.\n"
     ]
    }
   ],
   "source": [
    "print(\"Hello there!\\nHow are you?\\nI\\'m doing fine.\")"
   ]
  },
  {
   "cell_type": "markdown",
   "id": "6a0b370c",
   "metadata": {},
   "source": [
    "# Raw Strings"
   ]
  },
  {
   "cell_type": "markdown",
   "id": "2e2e9e7a",
   "metadata": {},
   "source": [
    "You can place an r before the beginning quotation mark of a string to make\n",
    "it a raw string. A raw string completely ignores all escape characters and\n",
    "prints any backslash that appears in the string."
   ]
  },
  {
   "cell_type": "code",
   "execution_count": 9,
   "id": "daff774f",
   "metadata": {},
   "outputs": [
    {
     "name": "stdout",
     "output_type": "stream",
     "text": [
      "That is Carol\\'s cat.\n"
     ]
    }
   ],
   "source": [
    "print(r'That is Carol\\'s cat.')"
   ]
  },
  {
   "cell_type": "markdown",
   "id": "ccc71891",
   "metadata": {},
   "source": [
    "# Multiline Strings with triple Quotes"
   ]
  },
  {
   "cell_type": "markdown",
   "id": "273e6c11",
   "metadata": {},
   "source": [
    "A multiline string in Python begins\n",
    "and ends with either three single quotes or three double quotes. Any quotes,\n",
    "tabs, or newlines in between the “triple quotes” are considered part of the\n",
    "string. Python’s indentation rules for blocks do not apply to lines inside a\n",
    "multiline string."
   ]
  },
  {
   "cell_type": "code",
   "execution_count": 10,
   "id": "2965ad9f",
   "metadata": {},
   "outputs": [
    {
     "name": "stdout",
     "output_type": "stream",
     "text": [
      "Dear Alice,\n",
      "Eve's cat has been arrested for catnapping, cat burglary, and extortion.\n",
      "Sincerely,\n",
      "Bob\n"
     ]
    }
   ],
   "source": [
    "print('''Dear Alice,\n",
    "Eve's cat has been arrested for catnapping, cat burglary, and extortion.\n",
    "Sincerely,\n",
    "Bob''')"
   ]
  },
  {
   "cell_type": "code",
   "execution_count": 11,
   "id": "fdc78685",
   "metadata": {},
   "outputs": [],
   "source": [
    "spam = '''Dear Alice,\n",
    "Eve's cat has been arrested for catnapping, cat burglary, and extortion.\n",
    "Sincerely,\n",
    "Bob'''"
   ]
  },
  {
   "cell_type": "code",
   "execution_count": 12,
   "id": "b6996138",
   "metadata": {},
   "outputs": [
    {
     "data": {
      "text/plain": [
       "\"Dear Alice,\\nEve's cat has been arrested for catnapping, cat burglary, and extortion.\\nSincerely,\\nBob\""
      ]
     },
     "execution_count": 12,
     "metadata": {},
     "output_type": "execute_result"
    }
   ],
   "source": [
    "spam"
   ]
  },
  {
   "cell_type": "markdown",
   "id": "316ca332",
   "metadata": {},
   "source": [
    "# Similarities Between Strings and Lists "
   ]
  },
  {
   "cell_type": "code",
   "execution_count": 16,
   "id": "378b3eb0",
   "metadata": {},
   "outputs": [
    {
     "data": {
      "text/plain": [
       "'Hello World'"
      ]
     },
     "execution_count": 16,
     "metadata": {},
     "output_type": "execute_result"
    }
   ],
   "source": [
    "'Hello World'"
   ]
  },
  {
   "cell_type": "code",
   "execution_count": 18,
   "id": "783b3092",
   "metadata": {},
   "outputs": [],
   "source": [
    "spam = 'Hello world'"
   ]
  },
  {
   "cell_type": "code",
   "execution_count": 19,
   "id": "5dcd4b57",
   "metadata": {},
   "outputs": [
    {
     "data": {
      "text/plain": [
       "'H'"
      ]
     },
     "execution_count": 19,
     "metadata": {},
     "output_type": "execute_result"
    }
   ],
   "source": [
    "spam[0]"
   ]
  },
  {
   "cell_type": "code",
   "execution_count": 20,
   "id": "60913ecb",
   "metadata": {},
   "outputs": [
    {
     "data": {
      "text/plain": [
       "'d'"
      ]
     },
     "execution_count": 20,
     "metadata": {},
     "output_type": "execute_result"
    }
   ],
   "source": [
    "spam[-1]"
   ]
  },
  {
   "cell_type": "code",
   "execution_count": 21,
   "id": "ac9c3804",
   "metadata": {},
   "outputs": [
    {
     "data": {
      "text/plain": [
       "True"
      ]
     },
     "execution_count": 21,
     "metadata": {},
     "output_type": "execute_result"
    }
   ],
   "source": [
    "'Hello' in spam"
   ]
  },
  {
   "cell_type": "code",
   "execution_count": 22,
   "id": "eeeca401",
   "metadata": {},
   "outputs": [
    {
     "data": {
      "text/plain": [
       "False"
      ]
     },
     "execution_count": 22,
     "metadata": {},
     "output_type": "execute_result"
    }
   ],
   "source": [
    "'x' in spam"
   ]
  }
 ],
 "metadata": {
  "kernelspec": {
   "display_name": "Python 3 (ipykernel)",
   "language": "python",
   "name": "python3"
  },
  "language_info": {
   "codemirror_mode": {
    "name": "ipython",
    "version": 3
   },
   "file_extension": ".py",
   "mimetype": "text/x-python",
   "name": "python",
   "nbconvert_exporter": "python",
   "pygments_lexer": "ipython3",
   "version": "3.7.9"
  }
 },
 "nbformat": 4,
 "nbformat_minor": 5
}
