{
 "cells": [
  {
   "cell_type": "code",
   "execution_count": 1,
   "id": "3977b4c9",
   "metadata": {},
   "outputs": [],
   "source": [
    "#Flow Control \n",
    "#If, Else, and Elif Statements \n",
    "#While Loops \n",
    "#For loops "
   ]
  },
  {
   "cell_type": "code",
   "execution_count": 2,
   "id": "0ced00e6",
   "metadata": {},
   "outputs": [],
   "source": [
    "#If Statements "
   ]
  },
  {
   "cell_type": "code",
   "execution_count": 3,
   "id": "31b6e7ab",
   "metadata": {},
   "outputs": [],
   "source": [
    "#will execute\n",
    "#if the statement’s condition is True. The clause is skipped if the condition is False.\n",
    "#In plain English, an if statement could be read as, “If this condition is\n",
    "#true, execute the code in the clause.” In Python, an if statement consists of the following:\n",
    "#•The if keyword\n",
    "#• A condition (that is, an expression that evaluates to True or False)\n",
    "#• A colon\n",
    "#• Starting on the next line, an indented block of code (called the if clause)"
   ]
  },
  {
   "cell_type": "code",
   "execution_count": 5,
   "id": "36b88604",
   "metadata": {},
   "outputs": [
    {
     "name": "stdout",
     "output_type": "stream",
     "text": [
      "Type your name: Alice\n",
      "Hello Alice\n"
     ]
    }
   ],
   "source": [
    "name = input('Type your name: ')\n",
    "if name == 'Alice':\n",
    "    print('Hello Alice')"
   ]
  },
  {
   "cell_type": "code",
   "execution_count": 6,
   "id": "ff1444c4",
   "metadata": {},
   "outputs": [],
   "source": [
    "#Else Statement"
   ]
  },
  {
   "cell_type": "code",
   "execution_count": 7,
   "id": "65c3b766",
   "metadata": {},
   "outputs": [],
   "source": [
    "#The else clause is executed only when the if statement’s condition is False.\n",
    "#If this condition is true, execute this code. Or else, execute that code.”"
   ]
  },
  {
   "cell_type": "code",
   "execution_count": 10,
   "id": "cb69eb73",
   "metadata": {},
   "outputs": [
    {
     "name": "stdout",
     "output_type": "stream",
     "text": [
      "Type your name: Jose\n",
      "Hello, stranger\n"
     ]
    }
   ],
   "source": [
    "name = input('Type your name: ')\n",
    "if name == 'Alice':\n",
    "    print('Hi, Alice')\n",
    "else:\n",
    "    print('Hello, stranger')"
   ]
  },
  {
   "cell_type": "code",
   "execution_count": 11,
   "id": "b321af76",
   "metadata": {},
   "outputs": [],
   "source": [
    "#Elif Statements"
   ]
  },
  {
   "cell_type": "code",
   "execution_count": 12,
   "id": "58398cb8",
   "metadata": {},
   "outputs": [],
   "source": [
    "# a case where you want one of many possible clauses to execute. The elif statement\n",
    "#is an “else if” statement that always follows an if or another elif statement.\n",
    "#It provides another condition that is checked only if any of the previous conditions were False."
   ]
  },
  {
   "cell_type": "code",
   "execution_count": 8,
   "id": "04aef01a",
   "metadata": {},
   "outputs": [
    {
     "name": "stdout",
     "output_type": "stream",
     "text": [
      "Type your name: Jose\n",
      "Type your age: 5\n",
      "You are not Alice, Kiddo\n"
     ]
    }
   ],
   "source": [
    "name = input('Type your name: ')\n",
    "age = int(input('Type your age: '))\n",
    "\n",
    "if name == 'Alice':\n",
    "    print('Hello Alice')\n",
    "elif age < 12:\n",
    "    print('You are not Alice, Kiddo')"
   ]
  },
  {
   "cell_type": "code",
   "execution_count": 13,
   "id": "b56c9dbd",
   "metadata": {},
   "outputs": [
    {
     "name": "stdout",
     "output_type": "stream",
     "text": [
      "Type your name: Jose\n",
      "Type your age: 101\n",
      "You are not Alice, grannie\n"
     ]
    }
   ],
   "source": [
    "name = input('Type your name: ')\n",
    "age = int(input('Type your age: '))\n",
    "if name == 'Alice ':\n",
    "    print('Hello, Alice')\n",
    "elif age < 12:\n",
    "    print('You are not Alice, Kiddo')\n",
    "elif age > 2000:\n",
    "    print('Unlike you, Alice is not an undead, immortal vampire')\n",
    "elif age > 100:\n",
    "    print('You are not Alice, grannie')"
   ]
  },
  {
   "cell_type": "code",
   "execution_count": 16,
   "id": "eb37c818",
   "metadata": {},
   "outputs": [
    {
     "name": "stdout",
     "output_type": "stream",
     "text": [
      "Type your name: 30000000\n",
      "Type your age: 300000000\n",
      "You are not Alice, Grannie\n"
     ]
    }
   ],
   "source": [
    "name = input('Type your name: ')\n",
    "age = int(input('Type your age: '))\n",
    "\n",
    "if name == 'Alice':\n",
    "    print('Hi Alice')\n",
    "elif age < 12:\n",
    "    print('You are not Alice, Kiddo')\n",
    "elif age > 100:\n",
    "    print('You are not Alice, Grannie')\n",
    "elif age > 2000:\n",
    "    print('Unlike you, Alice is not an undead, immortal vampire')"
   ]
  },
  {
   "cell_type": "code",
   "execution_count": 19,
   "id": "32e59640",
   "metadata": {},
   "outputs": [
    {
     "name": "stdout",
     "output_type": "stream",
     "text": [
      "Type your name: Jose\n",
      "Type your age: 22\n",
      "You are neither Alice or a little Kid\n"
     ]
    }
   ],
   "source": [
    "name = input('Type your name: ')\n",
    "age = int(input('Type your age: '))\n",
    "\n",
    "if name == 'Alice':\n",
    "    print('Hello Alice')\n",
    "elif age < 12:\n",
    "    print('You are not Alice, Kiddo')\n",
    "else:\n",
    "    print('You are neither Alice or a little Kid')"
   ]
  },
  {
   "cell_type": "code",
   "execution_count": 20,
   "id": "243b1a4a",
   "metadata": {},
   "outputs": [],
   "source": [
    "#While Loop Statement\n",
    "#A block of code that execute over and over again\n",
    "#As long as the statement condition is True "
   ]
  },
  {
   "cell_type": "code",
   "execution_count": 21,
   "id": "9e1bd14d",
   "metadata": {},
   "outputs": [
    {
     "name": "stdout",
     "output_type": "stream",
     "text": [
      "Hello World\n",
      "Hello World\n",
      "Hello World\n",
      "Hello World\n",
      "Hello World\n"
     ]
    }
   ],
   "source": [
    "spam = 0\n",
    "while spam < 5:\n",
    "    print('Hello World')\n",
    "    spam = spam + 1 "
   ]
  },
  {
   "cell_type": "code",
   "execution_count": 22,
   "id": "94bd10ba",
   "metadata": {},
   "outputs": [],
   "source": [
    "#An Annoying while Loop"
   ]
  },
  {
   "cell_type": "code",
   "execution_count": 25,
   "id": "17cfe49a",
   "metadata": {},
   "outputs": [
    {
     "name": "stdout",
     "output_type": "stream",
     "text": [
      "Please type your name.\n",
      "Jose\n",
      "Please type your name.\n",
      "your name\n",
      "Thank you\n"
     ]
    }
   ],
   "source": [
    "name = ''\n",
    "while name != 'your name':\n",
    "    print('Please type your name.')\n",
    "    name = input()\n",
    "    \n",
    "print('Thank you')"
   ]
  },
  {
   "cell_type": "code",
   "execution_count": 26,
   "id": "939ff3bd",
   "metadata": {},
   "outputs": [],
   "source": [
    "#Break Statements \n",
    "#There is a shortcut to getting the program execution to break out of \n",
    "#a whileloop’s clause early. If the execution reaches a break \n",
    "#statement, it immediately exits the while loop’s clause. In code, \n",
    "#a break statement simply contains the break keyword."
   ]
  },
  {
   "cell_type": "code",
   "execution_count": 1,
   "id": "d9382a3a",
   "metadata": {},
   "outputs": [
    {
     "name": "stdout",
     "output_type": "stream",
     "text": [
      "Please type your name: \n",
      "Jose\n",
      "Please type your name: \n",
      "your name\n",
      "Thank you\n"
     ]
    }
   ],
   "source": [
    "while True:\n",
    "    print('Please type your name: ')\n",
    "    name = input()\n",
    "    if name == 'your name':\n",
    "        break\n",
    "print('Thank you')"
   ]
  },
  {
   "cell_type": "code",
   "execution_count": 2,
   "id": "f65ef180",
   "metadata": {},
   "outputs": [],
   "source": [
    "#Continue Statements \n",
    "#When the program execution reaches a continue statement, \n",
    "#the program execution immediately jumps back to the start of the \n",
    "#loop and reevaluates the loop’s condition. (This is also what happens\n",
    "#when the execution reaches the end of the loop.)"
   ]
  },
  {
   "cell_type": "code",
   "execution_count": 3,
   "id": "a0115209",
   "metadata": {},
   "outputs": [
    {
     "name": "stdout",
     "output_type": "stream",
     "text": [
      "Who are you?\n",
      "Jose\n",
      "Who are you?\n",
      "Jose\n",
      "Who are you?\n",
      "Joe\n",
      "Who are you?\n",
      "Joe\n",
      "Who are you?\n"
     ]
    },
    {
     "ename": "KeyboardInterrupt",
     "evalue": "Interrupted by user",
     "output_type": "error",
     "traceback": [
      "\u001b[1;31m---------------------------------------------------------------------------\u001b[0m",
      "\u001b[1;31mKeyboardInterrupt\u001b[0m                         Traceback (most recent call last)",
      "\u001b[1;32m~\\AppData\\Local\\Temp\\ipykernel_22540\\3277197710.py\u001b[0m in \u001b[0;36m<module>\u001b[1;34m\u001b[0m\n\u001b[0;32m      1\u001b[0m \u001b[1;32mwhile\u001b[0m \u001b[1;32mTrue\u001b[0m\u001b[1;33m:\u001b[0m\u001b[1;33m\u001b[0m\u001b[1;33m\u001b[0m\u001b[0m\n\u001b[0;32m      2\u001b[0m     \u001b[0mprint\u001b[0m\u001b[1;33m(\u001b[0m\u001b[1;34m'Who are you?'\u001b[0m\u001b[1;33m)\u001b[0m\u001b[1;33m\u001b[0m\u001b[1;33m\u001b[0m\u001b[0m\n\u001b[1;32m----> 3\u001b[1;33m     \u001b[0mname\u001b[0m \u001b[1;33m=\u001b[0m \u001b[0minput\u001b[0m\u001b[1;33m(\u001b[0m\u001b[1;33m)\u001b[0m\u001b[1;33m\u001b[0m\u001b[1;33m\u001b[0m\u001b[0m\n\u001b[0m\u001b[0;32m      4\u001b[0m     \u001b[1;32mif\u001b[0m \u001b[0mname\u001b[0m \u001b[1;33m!=\u001b[0m \u001b[1;34m'Joe'\u001b[0m\u001b[1;33m:\u001b[0m\u001b[1;33m\u001b[0m\u001b[1;33m\u001b[0m\u001b[0m\n\u001b[0;32m      5\u001b[0m         \u001b[1;32mcontinue\u001b[0m\u001b[1;33m\u001b[0m\u001b[1;33m\u001b[0m\u001b[0m\n",
      "\u001b[1;32mc:\\robodk\\python37\\lib\\site-packages\\ipykernel\\kernelbase.py\u001b[0m in \u001b[0;36mraw_input\u001b[1;34m(self, prompt)\u001b[0m\n\u001b[0;32m   1179\u001b[0m             \u001b[0mself\u001b[0m\u001b[1;33m.\u001b[0m\u001b[0m_parent_ident\u001b[0m\u001b[1;33m[\u001b[0m\u001b[1;34m\"shell\"\u001b[0m\u001b[1;33m]\u001b[0m\u001b[1;33m,\u001b[0m\u001b[1;33m\u001b[0m\u001b[1;33m\u001b[0m\u001b[0m\n\u001b[0;32m   1180\u001b[0m             \u001b[0mself\u001b[0m\u001b[1;33m.\u001b[0m\u001b[0mget_parent\u001b[0m\u001b[1;33m(\u001b[0m\u001b[1;34m\"shell\"\u001b[0m\u001b[1;33m)\u001b[0m\u001b[1;33m,\u001b[0m\u001b[1;33m\u001b[0m\u001b[1;33m\u001b[0m\u001b[0m\n\u001b[1;32m-> 1181\u001b[1;33m             \u001b[0mpassword\u001b[0m\u001b[1;33m=\u001b[0m\u001b[1;32mFalse\u001b[0m\u001b[1;33m,\u001b[0m\u001b[1;33m\u001b[0m\u001b[1;33m\u001b[0m\u001b[0m\n\u001b[0m\u001b[0;32m   1182\u001b[0m         )\n\u001b[0;32m   1183\u001b[0m \u001b[1;33m\u001b[0m\u001b[0m\n",
      "\u001b[1;32mc:\\robodk\\python37\\lib\\site-packages\\ipykernel\\kernelbase.py\u001b[0m in \u001b[0;36m_input_request\u001b[1;34m(self, prompt, ident, parent, password)\u001b[0m\n\u001b[0;32m   1217\u001b[0m             \u001b[1;32mexcept\u001b[0m \u001b[0mKeyboardInterrupt\u001b[0m\u001b[1;33m:\u001b[0m\u001b[1;33m\u001b[0m\u001b[1;33m\u001b[0m\u001b[0m\n\u001b[0;32m   1218\u001b[0m                 \u001b[1;31m# re-raise KeyboardInterrupt, to truncate traceback\u001b[0m\u001b[1;33m\u001b[0m\u001b[1;33m\u001b[0m\u001b[1;33m\u001b[0m\u001b[0m\n\u001b[1;32m-> 1219\u001b[1;33m                 \u001b[1;32mraise\u001b[0m \u001b[0mKeyboardInterrupt\u001b[0m\u001b[1;33m(\u001b[0m\u001b[1;34m\"Interrupted by user\"\u001b[0m\u001b[1;33m)\u001b[0m \u001b[1;32mfrom\u001b[0m \u001b[1;32mNone\u001b[0m\u001b[1;33m\u001b[0m\u001b[1;33m\u001b[0m\u001b[0m\n\u001b[0m\u001b[0;32m   1220\u001b[0m             \u001b[1;32mexcept\u001b[0m \u001b[0mException\u001b[0m\u001b[1;33m:\u001b[0m\u001b[1;33m\u001b[0m\u001b[1;33m\u001b[0m\u001b[0m\n\u001b[0;32m   1221\u001b[0m                 \u001b[0mself\u001b[0m\u001b[1;33m.\u001b[0m\u001b[0mlog\u001b[0m\u001b[1;33m.\u001b[0m\u001b[0mwarning\u001b[0m\u001b[1;33m(\u001b[0m\u001b[1;34m\"Invalid Message:\"\u001b[0m\u001b[1;33m,\u001b[0m \u001b[0mexc_info\u001b[0m\u001b[1;33m=\u001b[0m\u001b[1;32mTrue\u001b[0m\u001b[1;33m)\u001b[0m\u001b[1;33m\u001b[0m\u001b[1;33m\u001b[0m\u001b[0m\n",
      "\u001b[1;31mKeyboardInterrupt\u001b[0m: Interrupted by user"
     ]
    }
   ],
   "source": [
    "while True:\n",
    "    print('Who are you?')\n",
    "    name = input()\n",
    "    if name != 'Joe':\n",
    "        continue\n",
    "    print('Hello, Jo')"
   ]
  },
  {
   "cell_type": "code",
   "execution_count": null,
   "id": "1189a029",
   "metadata": {},
   "outputs": [],
   "source": []
  }
 ],
 "metadata": {
  "kernelspec": {
   "display_name": "Python 3 (ipykernel)",
   "language": "python",
   "name": "python3"
  },
  "language_info": {
   "codemirror_mode": {
    "name": "ipython",
    "version": 3
   },
   "file_extension": ".py",
   "mimetype": "text/x-python",
   "name": "python",
   "nbconvert_exporter": "python",
   "pygments_lexer": "ipython3",
   "version": "3.7.3"
  }
 },
 "nbformat": 4,
 "nbformat_minor": 5
}
